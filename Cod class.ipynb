{
 "cells": [
  {
   "cell_type": "code",
   "execution_count": 6,
   "id": "67f8d1d9-2856-42e6-85a0-5ad036e5207d",
   "metadata": {},
   "outputs": [
    {
     "name": "stdout",
     "output_type": "stream",
     "text": [
      "Olá meu nome é João\n",
      "Minha idade é 16\n",
      "Meu curso é Ds\n"
     ]
    }
   ],
   "source": [
    "class aluno:\n",
    "    def __init__(self, nome, idade, curso):\n",
    "        self.nome = nome\n",
    "        self.idade = idade\n",
    "        self.curso = curso\n",
    "\n",
    "    \n",
    "    def apresentar(self):\n",
    "        print(f'Olá meu nome é {self.nome}')\n",
    "        print(f'Minha idade é {self.idade}')\n",
    "        print(f'Meu curso é {self.curso}')\n",
    "aluno1 = aluno('João', '16', 'Ds')\n",
    "aluno1.apresentar()"
   ]
  }
 ],
 "metadata": {
  "kernelspec": {
   "display_name": "Python 3 (ipykernel)",
   "language": "python",
   "name": "python3"
  },
  "language_info": {
   "codemirror_mode": {
    "name": "ipython",
    "version": 3
   },
   "file_extension": ".py",
   "mimetype": "text/x-python",
   "name": "python",
   "nbconvert_exporter": "python",
   "pygments_lexer": "ipython3",
   "version": "3.12.7"
  }
 },
 "nbformat": 4,
 "nbformat_minor": 5
}
