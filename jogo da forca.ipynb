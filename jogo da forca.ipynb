{
 "cells": [
  {
   "cell_type": "code",
   "execution_count": 18,
   "id": "1ff2ba48-a208-48a7-96cd-28cd9122e0ba",
   "metadata": {},
   "outputs": [
    {
     "name": "stdout",
     "output_type": "stream",
     "text": [
      "Bem vindo ao jogo da forca!\n",
      "Tentativas restantes: 10\n"
     ]
    },
    {
     "name": "stdin",
     "output_type": "stream",
     "text": [
      "Chute uma letra:  p\n"
     ]
    },
    {
     "name": "stdout",
     "output_type": "stream",
     "text": [
      "Essa letra não tem na palavra\n",
      "_ _ _ _ _ _ _ _\n",
      "Tentativas restantes: 9\n"
     ]
    },
    {
     "name": "stdin",
     "output_type": "stream",
     "text": [
      "Chute uma letra:  c\n"
     ]
    },
    {
     "name": "stdout",
     "output_type": "stream",
     "text": [
      "Você acertou!\n",
      "c _ c _ _ _ _ _\n",
      "Tentativas restantes: 9\n"
     ]
    },
    {
     "name": "stdin",
     "output_type": "stream",
     "text": [
      "Chute uma letra:  cachorro\n"
     ]
    },
    {
     "name": "stdout",
     "output_type": "stream",
     "text": [
      "\n",
      "Parabéns você acertou a palavra inteira!\n",
      "\n",
      "Parabéns, você ganhou!\n",
      "A palavra era: cachorro\n"
     ]
    }
   ],
   "source": [
    "import random\n",
    "\n",
    "lista = ['cachorro', 'canguru', 'pato', 'elefante']\n",
    "tentativas = 10\n",
    "palavra_secreta = random.choice(lista)\n",
    "letras_ocultas = ['_']* len(palavra_secreta)\n",
    "\n",
    "print('Bem vindo ao jogo da forca!')\n",
    "\n",
    "while tentativas > 0 and '_' in letras_ocultas:\n",
    "    print(f'Tentativas restantes: {tentativas}')\n",
    "    chute = input('Chute uma letra: ')\n",
    "    if chute == palavra_secreta:\n",
    "        letras_ocultas = list(palavra_secreta)\n",
    "        print('\\nParabéns você acertou a palavra inteira!')\n",
    "        break\n",
    "        \n",
    "    if len(chute) != 1 or not chute.isalpha():\n",
    "        print('\\nPor favor digite apenas 1 letra por vez!')\n",
    "        continue\n",
    "\n",
    "    \n",
    "    if chute in palavra_secreta:\n",
    "        for indice, letra in enumerate(palavra_secreta):\n",
    "            if letra == chute:\n",
    "                letras_ocultas[indice] = chute\n",
    "        print('Você acertou!')\n",
    "    else:\n",
    "        tentativas -=1\n",
    "        print('Essa letra não tem na palavra')\n",
    "\n",
    "    print(' '.join(letras_ocultas))\n",
    "\n",
    "if '_' not in letras_ocultas:\n",
    "    print('\\nParabéns, você ganhou!')\n",
    "    print('A palavra era:', ''.join(letras_ocultas))\n",
    "\n",
    "else:\n",
    "    print('\\nVocê perdeu!')\n",
    "    print('A palavra era:', ''.join(palavra_secreta))"
   ]
  },
  {
   "cell_type": "code",
   "execution_count": null,
   "id": "7f344272-e0db-45e9-81e7-d20334b408e7",
   "metadata": {},
   "outputs": [],
   "source": []
  }
 ],
 "metadata": {
  "kernelspec": {
   "display_name": "Python 3 (ipykernel)",
   "language": "python",
   "name": "python3"
  },
  "language_info": {
   "codemirror_mode": {
    "name": "ipython",
    "version": 3
   },
   "file_extension": ".py",
   "mimetype": "text/x-python",
   "name": "python",
   "nbconvert_exporter": "python",
   "pygments_lexer": "ipython3",
   "version": "3.12.7"
  }
 },
 "nbformat": 4,
 "nbformat_minor": 5
}
