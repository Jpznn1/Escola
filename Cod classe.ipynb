{
 "cells": [
  {
   "cell_type": "code",
   "execution_count": 40,
   "id": "67f8d1d9-2856-42e6-85a0-5ad036e5207d",
   "metadata": {},
   "outputs": [
    {
     "name": "stdout",
     "output_type": "stream",
     "text": [
      "Olá, meu nome é João e tenho 16 anos.\n",
      "Estou matriculado no curso de DS.\n",
      "\n",
      "Olá, meu nome é Victor e tenho 16 anos.\n",
      "Estou matriculado no curso de Vendas.\n",
      "\n",
      "Esse é meu cachorro, o nome dele é Hades ele tem 4 anos e é da raça Dobermann.\n"
     ]
    }
   ],
   "source": [
    "class Pessoa:\n",
    "    def __init__(self, nome, idade):\n",
    "        self._nome = nome\n",
    "        self._idade = idade\n",
    "\n",
    "    def apresentar(self):\n",
    "        print(f'Olá, meu nome é {self._nome} e tenho {self._idade} anos.')\n",
    "\n",
    "class Aluno(Pessoa):\n",
    "    def __init__(self, nome, idade, curso):\n",
    "        super().__init__(nome, idade)\n",
    "        self._curso = curso\n",
    "\n",
    "    def apresentar_aluno(self):\n",
    "        self.apresentar()\n",
    "        print(f'Estou matriculado no curso de {self._curso}.')\n",
    "\n",
    "class Amigo(Pessoa):\n",
    "    def __init__(self, nome, idade, curso):\n",
    "        super().__init__(nome, idade)\n",
    "        self._curso = curso\n",
    "\n",
    "    def apresentar_aluno(self):\n",
    "        self.apresentar()\n",
    "        print(f'Estou matriculado no curso de {self._curso}.')\n",
    "\n",
    "class Animal:\n",
    "    def __init__(self, nome, idade, raca):\n",
    "        self._nome = nome\n",
    "        self._idade = idade\n",
    "        self._raca = raca\n",
    "        \n",
    "class Cachorro(Animal):\n",
    "    def __init__(self, nome, idade, raca):\n",
    "        super().__init__(nome, idade, raca)\n",
    "\n",
    "    def apresentar_cachorro(self):\n",
    "        print(f'Esse é meu cachorro, o nome dele é {self._nome} ele tem {self._idade} anos e é da raça {self._raca}.')\n",
    "        \n",
    "aluno1 = Aluno(\"João\", \"16\", \"DS\")\n",
    "amigo1 = Amigo(\"Victor\",\"16\",\"Vendas\")\n",
    "cachorro1 = Cachorro(\"Hades\", \"4\", \"Dobermann\")\n",
    "aluno1.apresentar_aluno()\n",
    "print()\n",
    "amigo1.apresentar_aluno()\n",
    "print()\n",
    "cachorro1.apresentar_cachorro()"
   ]
  }
 ],
 "metadata": {
  "kernelspec": {
   "display_name": "Python 3 (ipykernel)",
   "language": "python",
   "name": "python3"
  },
  "language_info": {
   "codemirror_mode": {
    "name": "ipython",
    "version": 3
   },
   "file_extension": ".py",
   "mimetype": "text/x-python",
   "name": "python",
   "nbconvert_exporter": "python",
   "pygments_lexer": "ipython3",
   "version": "3.12.7"
  }
 },
 "nbformat": 4,
 "nbformat_minor": 5
}
